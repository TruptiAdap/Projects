{
 "cells": [
  {
   "cell_type": "raw",
   "id": "d82f9aa1",
   "metadata": {},
   "source": [
    "1. 1.Write a Python program that asks the user for their age and then classifies them into one of three categories: \"Child\" (0-12 years old), \"Teenager\" (13-19 years old), or \"Adult\" (20 years old and older)."
   ]
  },
  {
   "cell_type": "code",
   "execution_count": 3,
   "id": "13a5dd21",
   "metadata": {},
   "outputs": [
    {
     "name": "stdout",
     "output_type": "stream",
     "text": [
      "Kindly enter your age : -5\n",
      "Kindly enter a valid age\n"
     ]
    }
   ],
   "source": [
    "Age = int(input (\"Kindly enter your age : \"))\n",
    "\n",
    "if (Age >=0) & (Age <=12):\n",
    "    print (\"Child\")\n",
    "elif (Age>=13) & (Age <=19):\n",
    "    print (\"Teen\")\n",
    "elif Age >19:\n",
    "    print (\"Adult\")\n",
    "else:\n",
    "    print (\"Kindly enter a valid age\")"
   ]
  },
  {
   "cell_type": "raw",
   "id": "2e2fda51",
   "metadata": {},
   "source": [
    "# 2.Create a Python program that determines whether a given year is a leap year or not. Leap years are divisible by 4, but if they are also divisible by 100, they must also be divisible by 400 to be considered leap years."
   ]
  },
  {
   "cell_type": "code",
   "execution_count": 5,
   "id": "baf6f101",
   "metadata": {
    "scrolled": true
   },
   "outputs": [
    {
     "name": "stdout",
     "output_type": "stream",
     "text": [
      "Kindly enter the year : 2057\n",
      "2057 is not a leap year\n"
     ]
    }
   ],
   "source": [
    "year = int (input (\"Kindly enter the year : \"))\n",
    "\n",
    "if (year%4==0 and year%100!=0) or (year%400 == 0):\n",
    "    print (f\"{year} is a leap year\")\n",
    "else:\n",
    "    print (f\"{year} is not a leap year\")"
   ]
  },
  {
   "cell_type": "raw",
   "id": "0b299ef2",
   "metadata": {},
   "source": [
    "### 3.Write a Python program to determine the grade of a student based on their exam score. The grading scale is as follows:\n",
    "\n",
    "Score >= 90: \"A\"\n",
    "80 <= Score < 90: \"B\"\n",
    "70 <= Score < 80: \"C\"\n",
    "60 <= Score < 70: \"D\"\n",
    "Score < 60: \"F\""
   ]
  },
  {
   "cell_type": "code",
   "execution_count": 6,
   "id": "ffaa8abc",
   "metadata": {},
   "outputs": [
    {
     "name": "stdout",
     "output_type": "stream",
     "text": [
      "Enter the score: 98\n",
      "your grade is:A\n"
     ]
    }
   ],
   "source": [
    "score = int(input(\"Enter the score: \"))\n",
    "\n",
    "if score>=90:\n",
    "    grade =\"A\"\n",
    "elif score >=80:\n",
    "    grade = \"B\"\n",
    "elif score >=70:\n",
    "    grade= \"C\"\n",
    "elif score >=60:\n",
    "    grade = \"D\"\n",
    "else:\n",
    "    grade  = \"F\"\n",
    "\n",
    "\n",
    "    \n",
    "print(f\"your grade is:{grade}\")"
   ]
  },
  {
   "cell_type": "raw",
   "id": "6c9bd1f1",
   "metadata": {},
   "source": [
    "Write a Python program that takes two numbers as input and prints the larger number."
   ]
  },
  {
   "cell_type": "code",
   "execution_count": 7,
   "id": "cc755b9d",
   "metadata": {},
   "outputs": [
    {
     "name": "stdout",
     "output_type": "stream",
     "text": [
      "Enter number 120\n",
      "Enter number 250\n",
      "50 is greater than 20\n"
     ]
    }
   ],
   "source": [
    "num_A = int(input(\"Enter number 1 : \"))\n",
    "num_B = int (input(\"Enter number 2 : \"))\n",
    "\n",
    "if num_A > num_B:\n",
    "    print(f\"{num_A} is greater than {num_B}\")\n",
    "else:\n",
    "    print(f\"{num_B} is greater than {num_A}\")"
   ]
  },
  {
   "cell_type": "raw",
   "id": "45e06cf5",
   "metadata": {},
   "source": [
    "Create a Python program that asks the user for a month (1-12) and then prints the corresponding season (\"Spring,\" \"Summer,\" \"Fall,\" or \"Winter\").\n"
   ]
  },
  {
   "cell_type": "code",
   "execution_count": 9,
   "id": "730629ff",
   "metadata": {},
   "outputs": [
    {
     "name": "stdout",
     "output_type": "stream",
     "text": [
      "Enter the number of month to know its season : 17\n",
      "Kindly enter number between 1-12\n"
     ]
    }
   ],
   "source": [
    "month = int(input(\"Enter the number of month to know its season : \"))\n",
    "\n",
    "if (month >=1) & (month<=3):\n",
    "    print (\"Its a Spring season\")\n",
    "elif (month >=4) & (month<=6):\n",
    "    print (\"Its a Summer season\")\n",
    "elif (month >=7) & (month<=9):\n",
    "    print (\"Its a Fall season\")\n",
    "elif (month >=10) & (month<=12):\n",
    "    print (\"Its a Winter season\")\n",
    "else:\n",
    "    print (\"Kindly enter number between 1-12\")"
   ]
  },
  {
   "cell_type": "raw",
   "id": "3e7eb121",
   "metadata": {},
   "source": [
    "Write a Python program that determines whether a given year is a leap year or not. Use the leap year rules mentioned earlier."
   ]
  },
  {
   "cell_type": "code",
   "execution_count": 10,
   "id": "700c8f95",
   "metadata": {
    "scrolled": true
   },
   "outputs": [
    {
     "name": "stdout",
     "output_type": "stream",
     "text": [
      "Kindly enter the year : 2017\n",
      "2017 is not a leap year\n"
     ]
    }
   ],
   "source": [
    "year = int (input (\"Kindly enter the year : \"))\n",
    "\n",
    "if (year%4==0 and year%100!=0) or (year%400 == 0):\n",
    "    print (f\"{year} is a leap year\")\n",
    "else:\n",
    "    print (f\"{year} is not a leap year\")"
   ]
  },
  {
   "cell_type": "raw",
   "id": "3effbcfe",
   "metadata": {},
   "source": [
    "Create a program that takes an integer as input and checks if it's positive, negative, or zero. Print an appropriate message."
   ]
  },
  {
   "cell_type": "code",
   "execution_count": 11,
   "id": "74852637",
   "metadata": {},
   "outputs": [
    {
     "name": "stdout",
     "output_type": "stream",
     "text": [
      "Enter your number : 0\n",
      " Its zero\n"
     ]
    }
   ],
   "source": [
    "num = int(input(\"Enter your number : \"))\n",
    "\n",
    "if num <0:\n",
    "    print (\"Negative\")\n",
    "elif num >0:\n",
    "    print (\"Positive\")\n",
    "else:\n",
    "    print (\" Its zero\")\n"
   ]
  },
  {
   "cell_type": "raw",
   "id": "5d7cda95",
   "metadata": {},
   "source": [
    "Write a Python program that asks the user for their age and gender. Based on their age and gender, print a message like \"You are a young man\" or \"You are an old woman.\""
   ]
  },
  {
   "cell_type": "code",
   "execution_count": 12,
   "id": "43596895",
   "metadata": {},
   "outputs": [
    {
     "name": "stdout",
     "output_type": "stream",
     "text": [
      "Kindly enter your age : 67\n",
      "Kindly enter your gender (M/F): f\n",
      "You are a Old Woman\n"
     ]
    }
   ],
   "source": [
    "age = int (input(\"Kindly enter your age : \"))\n",
    "gender = input(\"Kindly enter your gender (M/F): \")\n",
    "\n",
    "if (age <=18):\n",
    "    if (gender.upper() == \"M\"):\n",
    "        print (\"You are a young man\")\n",
    "    else:\n",
    "         print (\"You are a young girl\")\n",
    "else:\n",
    "    if gender.upper()==\"M\":\n",
    "           print (\"You are a Old man\")\n",
    "    else:\n",
    "         print (\"You are a Old Woman\")\n",
    "        "
   ]
  },
  {
   "cell_type": "raw",
   "id": "4d61af78",
   "metadata": {},
   "source": [
    "Create a program that takes a temperature in Celsius and converts it to Fahrenheit. Display the result with an appropriate message."
   ]
  },
  {
   "cell_type": "code",
   "execution_count": 14,
   "id": "a7f011aa",
   "metadata": {},
   "outputs": [
    {
     "name": "stdout",
     "output_type": "stream",
     "text": [
      "Enter the temp in celsius to be converted into Fahrenheit : 12\n",
      "12.0 degree celsius is 53.6 fahrenheit\n"
     ]
    }
   ],
   "source": [
    "temp = float(input(\"Enter the temp in celsius to be converted into Fahrenheit : \"))\n",
    "\n",
    "fahrenheit = (temp * 9/5) + 32\n",
    "\n",
    "print (f\"{temp} degree celsius is {fahrenheit} fahrenheit\")\n"
   ]
  },
  {
   "cell_type": "raw",
   "id": "ab50a534",
   "metadata": {},
   "source": [
    "Write a Python program that calculates the shipping cost based on the weight of a package. Use the following rules:\n",
    "- Weight <= 2 pounds: $5.00\n",
    "- 2 pounds < Weight <= 10 pounds: $10.00\n",
    "- Weight > 10 pounds: $15.00"
   ]
  },
  {
   "cell_type": "code",
   "execution_count": 15,
   "id": "8c289580",
   "metadata": {},
   "outputs": [
    {
     "name": "stdout",
     "output_type": "stream",
     "text": [
      "Enter the weight of your package : 70\n",
      "Your package of weight 70 will cost $15.00\n"
     ]
    }
   ],
   "source": [
    "weight = float(input(\"Enter the weight of your package in pounds : \"))\n",
    "\n",
    "if (weight > 0) & (weight <=2):\n",
    "    print (f\"Your package of weight {weight} pounds will cost $5.00\")\n",
    "elif (weight > 2) & (weight <=10):\n",
    "    print (f\"Your package of weight {weight} pounds will cost $10.00\")\n",
    "else:\n",
    "    print (f\"Your package of weight {weight} pounds will cost $15.00\")"
   ]
  },
  {
   "cell_type": "raw",
   "id": "1599a610",
   "metadata": {},
   "source": [
    "Create a program that asks the user for three numbers and then prints them in ascending order."
   ]
  },
  {
   "cell_type": "code",
   "execution_count": 16,
   "id": "909168af",
   "metadata": {},
   "outputs": [
    {
     "name": "stdout",
     "output_type": "stream",
     "text": [
      "Enter the number 1: 50\n",
      "Enter the number 2: 70\n",
      "Enter the number 3: 90\n",
      "Numbers in ascending order are:  [50, 70, 90]\n"
     ]
    }
   ],
   "source": [
    "num1 = int(input(\"Enter the number 1: \"))\n",
    "num2 = int(input(\"Enter the number 2: \"))\n",
    "num3 = int(input(\"Enter the number 3: \"))\n",
    "\n",
    "sorted_numbers = sorted([num1,num2,num3])\n",
    "\n",
    "print(\"Numbers in ascending order are: \", sorted_numbers)"
   ]
  },
  {
   "cell_type": "raw",
   "id": "23506258",
   "metadata": {},
   "source": [
    "Write a Python program that checks if a given year is a \"century year\" (ends in 00). If it's a century year, check if it's a leap year."
   ]
  },
  {
   "cell_type": "code",
   "execution_count": 17,
   "id": "b093176b",
   "metadata": {},
   "outputs": [
    {
     "name": "stdout",
     "output_type": "stream",
     "text": [
      "Enter the year to be checked: 2000\n",
      "It is a leap year century\n"
     ]
    }
   ],
   "source": [
    "year = int(input(\"Enter the year to be checked: \"))\n",
    "\n",
    "if year%100==0:\n",
    "    if year%400==0:\n",
    "        print(\"It is a leap year century\")\n",
    "    else:\n",
    "        print(\"Not a century leap year\")\n",
    "\n",
    "else:\n",
    "    print(\"Not a century year\")"
   ]
  },
  {
   "cell_type": "raw",
   "id": "bebb5bf1",
   "metadata": {},
   "source": [
    "Create a program that asks the user for a number and then determines if it's even or odd. Print an appropriate message."
   ]
  },
  {
   "cell_type": "code",
   "execution_count": 18,
   "id": "944cf5bd",
   "metadata": {},
   "outputs": [
    {
     "name": "stdout",
     "output_type": "stream",
     "text": [
      "Enter a number : 17\n",
      "17 is an odd number \n"
     ]
    }
   ],
   "source": [
    "num = int(input (\"Enter a number : \" ))\n",
    "\n",
    "if num%2==0:\n",
    "    print (f\"{num} is an even number \")\n",
    "else:\n",
    "    print (f\"{num} is an odd number \")"
   ]
  },
  {
   "cell_type": "code",
   "execution_count": null,
   "id": "83f39032",
   "metadata": {},
   "outputs": [],
   "source": []
  }
 ],
 "metadata": {
  "kernelspec": {
   "display_name": "Python 3 (ipykernel)",
   "language": "python",
   "name": "python3"
  },
  "language_info": {
   "codemirror_mode": {
    "name": "ipython",
    "version": 3
   },
   "file_extension": ".py",
   "mimetype": "text/x-python",
   "name": "python",
   "nbconvert_exporter": "python",
   "pygments_lexer": "ipython3",
   "version": "3.11.4"
  }
 },
 "nbformat": 4,
 "nbformat_minor": 5
}
