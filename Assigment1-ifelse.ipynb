{
 "cells": [
  {
   "cell_type": "raw",
   "id": "eb830205",
   "metadata": {},
   "source": [
    "Question 1:*\n",
    "\n",
    "Write a Python program that takes two numbers as input and prints the larger number."
   ]
  },
  {
   "cell_type": "code",
   "execution_count": 1,
   "id": "774e4deb",
   "metadata": {},
   "outputs": [
    {
     "name": "stdout",
     "output_type": "stream",
     "text": [
      "Enter number 1 : 70\n",
      "Enter number 2 : 140\n",
      "140 is greater than 70\n"
     ]
    }
   ],
   "source": [
    "num_A = int(input(\"Enter number 1 : \"))\n",
    "num_B = int (input(\"Enter number 2 : \"))\n",
    "\n",
    "if num_A > num_B:\n",
    "    print(f\"{num_A} is greater than {num_B}\")\n",
    "else:\n",
    "    print(f\"{num_B} is greater than {num_A}\")"
   ]
  },
  {
   "cell_type": "raw",
   "id": "9636be52",
   "metadata": {},
   "source": [
    "*Question 2:*\n",
    "\n",
    "Create a Python program that asks the user for a month (1-12) and then prints the corresponding season (\"Spring,\" \"Summer,\" \"Fall,\" or \"Winter\")."
   ]
  },
  {
   "cell_type": "code",
   "execution_count": 2,
   "id": "83fac538",
   "metadata": {},
   "outputs": [
    {
     "name": "stdout",
     "output_type": "stream",
     "text": [
      "Enter the number of month to know its season : 18\n",
      "Kindly enter number between 1-12\n"
     ]
    }
   ],
   "source": [
    "month = int(input(\"Enter the number of month to know its season : \"))\n",
    "\n",
    "if (month >=1) & (month<=3):\n",
    "    print (\"Its a Spring season\")\n",
    "elif (month >=4) & (month<=6):\n",
    "    print (\"Its a Summer season\")\n",
    "elif (month >=7) & (month<=9):\n",
    "    print (\"Its a Fall season\")\n",
    "elif (month >=10) & (month<=12):\n",
    "    print (\"Its a Winter season\")\n",
    "else:\n",
    "    print (\"Kindly enter number between 1-12\")"
   ]
  },
  {
   "cell_type": "raw",
   "id": "85a2fc4d",
   "metadata": {},
   "source": [
    "*Question 3:*\n",
    "\n",
    "Write a Python program that determines whether a given year is a leap year or not. Use the leap year rules mentioned earlier."
   ]
  },
  {
   "cell_type": "code",
   "execution_count": 3,
   "id": "b1b811e6",
   "metadata": {},
   "outputs": [
    {
     "name": "stdout",
     "output_type": "stream",
     "text": [
      "Kindly enter the year : 2017\n",
      "2017 is not a leap year\n"
     ]
    }
   ],
   "source": [
    "year = int (input (\"Kindly enter the year : \"))\n",
    "\n",
    "if (year%4==0 and year%100!=0) or (year%400 == 0):\n",
    "    print (f\"{year} is a leap year\")\n",
    "else:\n",
    "    print (f\"{year} is not a leap year\")"
   ]
  },
  {
   "cell_type": "raw",
   "id": "ada013b3",
   "metadata": {},
   "source": [
    "*Question 4:*\n",
    "\n",
    "Create a program that takes an integer as input and checks if it's positive, negative, or zero. Print an appropriate message."
   ]
  },
  {
   "cell_type": "code",
   "execution_count": 4,
   "id": "b77f81c1",
   "metadata": {},
   "outputs": [
    {
     "name": "stdout",
     "output_type": "stream",
     "text": [
      "Enter your number : 0\n",
      " Its zero\n"
     ]
    }
   ],
   "source": [
    "num = int(input(\"Enter your number : \"))\n",
    "\n",
    "if num <0:\n",
    "    print (\"Negative\")\n",
    "elif num >0:\n",
    "    print (\"Positive\")\n",
    "else:\n",
    "    print (\" Its zero\")\n",
    "    "
   ]
  },
  {
   "cell_type": "raw",
   "id": "961acf08",
   "metadata": {},
   "source": [
    "*Question 5:*\n",
    "\n",
    "Write a Python program that asks the user for their age and gender. Based on their age and gender, print a message like \"You are a young man\" or \"You are an old woman.\"\n",
    "01:23:11\tChirantan Lonkar:\t"
   ]
  },
  {
   "cell_type": "code",
   "execution_count": 5,
   "id": "9661c1c8",
   "metadata": {},
   "outputs": [
    {
     "name": "stdout",
     "output_type": "stream",
     "text": [
      "Kindly enter your age : 67\n",
      "Kindly enter your gender (M/F): F\n",
      "You are a Old Woman\n"
     ]
    }
   ],
   "source": [
    "age = int (input(\"Kindly enter your age : \"))\n",
    "gender = input(\"Kindly enter your gender (M/F): \")\n",
    "\n",
    "if (age <=18):\n",
    "    if (gender.upper() == \"M\"):\n",
    "        print (\"You are a young man\")\n",
    "    else:\n",
    "         print (\"You are a young girl\")\n",
    "else:\n",
    "    if gender.upper()==\"M\":\n",
    "           print (\"You are a Old man\")\n",
    "    else:\n",
    "         print (\"You are a Old Woman\")"
   ]
  },
  {
   "cell_type": "raw",
   "id": "324fa6c5",
   "metadata": {},
   "source": [
    "*Question 6:*\n",
    "\n",
    "Create a program that takes a temperature in Celsius and converts it to Fahrenheit. Display the result with an appropriate message."
   ]
  },
  {
   "cell_type": "code",
   "execution_count": 6,
   "id": "ccac8728",
   "metadata": {},
   "outputs": [
    {
     "name": "stdout",
     "output_type": "stream",
     "text": [
      "Enter the temp in celsius to be converted into Fahrenheit : 12\n",
      "12.0 degree celsius is 53.6 fahrenheit\n"
     ]
    }
   ],
   "source": [
    "temp = float(input(\"Enter the temp in celsius to be converted into Fahrenheit : \"))\n",
    "\n",
    "fahrenheit = (temp * 9/5) + 32\n",
    "\n",
    "print (f\"{temp} degree celsius is {fahrenheit} fahrenheit\")"
   ]
  },
  {
   "cell_type": "raw",
   "id": "5b3ab53d",
   "metadata": {},
   "source": [
    "*Question 7:*\n",
    "\n",
    "Write a Python program that calculates the shipping cost based on the weight of a package. Use the following rules:\n",
    "- Weight <= 2 pounds: $5.00\n",
    "- 2 pounds < Weight <= 10 pounds: $10.00\n",
    "- Weight > 10 pounds: $15.00"
   ]
  },
  {
   "cell_type": "code",
   "execution_count": 7,
   "id": "76869644",
   "metadata": {},
   "outputs": [
    {
     "name": "stdout",
     "output_type": "stream",
     "text": [
      "Enter the weight of your package in pounds : 70\n",
      "Your package of weight 70.0 pounds will cost $15.00\n"
     ]
    }
   ],
   "source": [
    "weight = float(input(\"Enter the weight of your package in pounds : \"))\n",
    "\n",
    "if (weight > 0) & (weight <=2):\n",
    "    print (f\"Your package of weight {weight} pounds will cost $5.00\")\n",
    "elif (weight > 2) & (weight <=10):\n",
    "    print (f\"Your package of weight {weight} pounds will cost $10.00\")\n",
    "else:\n",
    "    print (f\"Your package of weight {weight} pounds will cost $15.00\")"
   ]
  },
  {
   "cell_type": "raw",
   "id": "427b5831",
   "metadata": {},
   "source": [
    "*Question 8:*\n",
    "\n",
    "Create a program that asks the user for three numbers and then prints them in ascending order."
   ]
  },
  {
   "cell_type": "code",
   "execution_count": 8,
   "id": "b51866dd",
   "metadata": {},
   "outputs": [
    {
     "name": "stdout",
     "output_type": "stream",
     "text": [
      "Enter the number 1: 30\n",
      "Enter the number 2: 60\n",
      "Enter the number 3: 10\n",
      "Numbers in ascending order are:  [10, 30, 60]\n"
     ]
    }
   ],
   "source": [
    "num1 = int(input(\"Enter the number 1: \"))\n",
    "num2 = int(input(\"Enter the number 2: \"))\n",
    "num3 = int(input(\"Enter the number 3: \"))\n",
    "\n",
    "sorted_numbers = sorted([num1,num2,num3])\n",
    "\n",
    "print(\"Numbers in ascending order are: \", sorted_numbers)"
   ]
  },
  {
   "cell_type": "raw",
   "id": "b313e1dc",
   "metadata": {},
   "source": [
    "*Question 9:*\n",
    "\n",
    "Write a Python program that checks if a given year is a \"century year\" (ends in 00). If it's a century year, check if it's a leap year."
   ]
  },
  {
   "cell_type": "code",
   "execution_count": 10,
   "id": "fcadc39e",
   "metadata": {},
   "outputs": [
    {
     "name": "stdout",
     "output_type": "stream",
     "text": [
      "Enter the year to be checked: 2018\n",
      "Not a century year\n"
     ]
    }
   ],
   "source": [
    "year = int(input(\"Enter the year to be checked: \"))\n",
    "\n",
    "if year%100==0:\n",
    "    if year%400==0:\n",
    "        print(\"It is a leap year century\")\n",
    "    else:\n",
    "        print(\"Not a century leap year\")\n",
    "\n",
    "else:\n",
    "    print(\"Not a century year\")"
   ]
  },
  {
   "cell_type": "raw",
   "id": "66130bc8",
   "metadata": {},
   "source": [
    "*Question 10:*\n",
    "\n",
    "Create a program that asks the user for a number and then determines if it's even or odd. Print an appropriate message."
   ]
  },
  {
   "cell_type": "code",
   "execution_count": 12,
   "id": "b23558da",
   "metadata": {},
   "outputs": [
    {
     "name": "stdout",
     "output_type": "stream",
     "text": [
      "Enter a number : 78\n",
      "78 is an even number \n"
     ]
    }
   ],
   "source": [
    "num = int(input (\"Enter a number : \" ))\n",
    "\n",
    "if num%2==0:\n",
    "    print (f\"{num} is an even number \")\n",
    "else:\n",
    "    print (f\"{num} is an odd number \")"
   ]
  },
  {
   "cell_type": "code",
   "execution_count": null,
   "id": "4e1252e6",
   "metadata": {},
   "outputs": [],
   "source": []
  }
 ],
 "metadata": {
  "kernelspec": {
   "display_name": "Python 3 (ipykernel)",
   "language": "python",
   "name": "python3"
  },
  "language_info": {
   "codemirror_mode": {
    "name": "ipython",
    "version": 3
   },
   "file_extension": ".py",
   "mimetype": "text/x-python",
   "name": "python",
   "nbconvert_exporter": "python",
   "pygments_lexer": "ipython3",
   "version": "3.11.4"
  }
 },
 "nbformat": 4,
 "nbformat_minor": 5
}
