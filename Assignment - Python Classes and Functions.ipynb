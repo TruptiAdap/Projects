{
 "cells": [
  {
   "cell_type": "markdown",
   "id": "9f555dcf",
   "metadata": {},
   "source": [
    "# PART A: Python Classes"
   ]
  },
  {
   "cell_type": "code",
   "execution_count": null,
   "id": "6ab9f54a",
   "metadata": {},
   "outputs": [],
   "source": []
  },
  {
   "cell_type": "code",
   "execution_count": 75,
   "id": "90230753",
   "metadata": {},
   "outputs": [
    {
     "name": "stdout",
     "output_type": "stream",
     "text": [
      "Name of the student is Trupti Adap \n",
      "Age of the student is 25 \n",
      "Grade of the student is 70 \n"
     ]
    }
   ],
   "source": [
    "class Student():\n",
    "    \n",
    "    def __init__(self,name,age,grade):\n",
    "        self.name = name\n",
    "        self.age = age\n",
    "        self.grade =  grade\n",
    "\n",
    "stud_1 = Student(\"Trupti Adap\",25,70)\n",
    "\n",
    "print(f'Name of the student is {stud_1.name} ')\n",
    "print(f'Age of the student is {stud_1.age} ')\n",
    "print(f'Grade of the student is {stud_1.grade} ')"
   ]
  },
  {
   "cell_type": "code",
   "execution_count": 10,
   "id": "f432bd0e",
   "metadata": {},
   "outputs": [
    {
     "name": "stdout",
     "output_type": "stream",
     "text": [
      "Name of the student is Trupti Adap \n",
      "Age of the student is 25 \n",
      "Grade of the student is 90 \n",
      "Trupti Adap has passed as the result of her grade is True\n"
     ]
    }
   ],
   "source": [
    "class Student():\n",
    "    \n",
    "    def __init__(self,name,age,grade):\n",
    "        self.name = name\n",
    "        self.age = age\n",
    "        self.grade =  grade\n",
    "    def is_passing(self):\n",
    "        if self.grade >= 50:\n",
    "            return True\n",
    "        else:\n",
    "            return False\n",
    "\n",
    "stud_2 = Student(\"Trupti Adap\",25,90)\n",
    "\n",
    "print(f'Name of the student is {stud_2.name} ')\n",
    "print(f'Age of the student is {stud_2.age} ')\n",
    "print(f'Grade of the student is {stud_2.grade} ')\n",
    "print(f'{stud_2.name} has passed as the result of her grade is {stud_2.is_passing()}')"
   ]
  },
  {
   "cell_type": "code",
   "execution_count": 17,
   "id": "5f63650f",
   "metadata": {},
   "outputs": [
    {
     "name": "stdout",
     "output_type": "stream",
     "text": [
      "Sneha Pandey having an age of 26 from JBL school has secured 80 marks and grade result as True\n"
     ]
    }
   ],
   "source": [
    "class HighSchoolStudent(Student):\n",
    "    \n",
    "    def __init__(self,name,age,grade,school_name):\n",
    "        super().__init__(name,age,grade)\n",
    "        self.school_name = school_name\n",
    "\n",
    "High_Sch = HighSchoolStudent(\"Sneha Pandey\",26,80,\"JBL\")\n",
    "\n",
    "print(f'{High_Sch.name} having an age of {High_Sch.age} from {High_Sch.school_name} school has secured {High_Sch.grade} marks and grade result as {High_Sch.is_passing()}')\n",
    "    "
   ]
  },
  {
   "cell_type": "markdown",
   "id": "0a367455",
   "metadata": {},
   "source": [
    "# FUNCTIONS"
   ]
  },
  {
   "cell_type": "raw",
   "id": "ecd47fb5",
   "metadata": {},
   "source": [
    "4.\tFunction with Parameters Write a Python function called \"calculate_rectangle_area\" that takes two parameters, length and width, and returns the area of a rectangle. Call the function with different sets of values and display the results."
   ]
  },
  {
   "cell_type": "code",
   "execution_count": 24,
   "id": "9737cbbd",
   "metadata": {},
   "outputs": [
    {
     "name": "stdout",
     "output_type": "stream",
     "text": [
      "Please enter the length of the rectangle 60.980\n",
      "Please enter the width of the rectangle 786.32\n",
      "The area of the rectangle for given values is 47949.7936\n"
     ]
    }
   ],
   "source": [
    "len = float(input(\"Please enter the length of the rectangle \"))\n",
    "wid = float(input(\"Please enter the width of the rectangle \"))\n",
    "def area_of_rect(len,wid):\n",
    "    area = len*wid\n",
    "    return area\n",
    "    \n",
    "        \n",
    "print (f'The area of the rectangle for given values is {area_of_rect(len,wid)}') "
   ]
  },
  {
   "cell_type": "raw",
   "id": "a31d4b51",
   "metadata": {},
   "source": [
    "5.\tFunction with Default Parameters Create a Python function called \"greet\" that takes a name as a parameter and a greeting message as an optional parameter with a default value of \"Hello\". The function should return a formatted greeting message. Test the function by calling it with and without the optional parameter and display the results."
   ]
  },
  {
   "cell_type": "code",
   "execution_count": 33,
   "id": "240ea629",
   "metadata": {},
   "outputs": [
    {
     "name": "stdout",
     "output_type": "stream",
     "text": [
      "Please enter your name tr\n",
      "Good Morning tr !\n"
     ]
    }
   ],
   "source": [
    "name = input(\"Please enter your name \")\n",
    "#msg = input(\"Enter your greeting msg : \")\n",
    "\n",
    "def greet(name,msg = \"Hello\"):\n",
    "    print(f'{msg} {name} !')\n",
    "\n",
    "greet(name,\"Good Morning\")\n",
    "    "
   ]
  },
  {
   "cell_type": "code",
   "execution_count": 34,
   "id": "f524a932",
   "metadata": {},
   "outputs": [
    {
     "name": "stdout",
     "output_type": "stream",
     "text": [
      "Please enter your name Trupti\n",
      "Hello Trupti !\n"
     ]
    }
   ],
   "source": [
    "name = input(\"Please enter your name \")\n",
    "#msg = input(\"Enter your greeting msg : \")\n",
    "\n",
    "def greet_v1(name,msg = \"Hello\"):\n",
    "    print(f'{msg} {name} !')\n",
    "\n",
    "greet(name)"
   ]
  },
  {
   "cell_type": "raw",
   "id": "c4e2c396",
   "metadata": {},
   "source": [
    "6.\tFunction with Variable Number of Arguments Write a Python function called \"calculate_average\" that takes a variable number of arguments and calculates the average of those numbers. Use this function to find the average of 5, 10, 15, and 20, and display the result."
   ]
  },
  {
   "cell_type": "code",
   "execution_count": null,
   "id": "4e7c8e2b",
   "metadata": {},
   "outputs": [],
   "source": [
    "def cal_avg(*args):\n",
    "    sum = 0\n",
    "    for i in args:\n",
    "        sum = sum + i\n",
    "    avg=sum/len(args)\n",
    "    return avg\n",
    "\n",
    "print(f'The avg of numbers 5,10,15,20 is {cal_avg(5,10,15,20)}')"
   ]
  }
 ],
 "metadata": {
  "kernelspec": {
   "display_name": "Python 3 (ipykernel)",
   "language": "python",
   "name": "python3"
  },
  "language_info": {
   "codemirror_mode": {
    "name": "ipython",
    "version": 3
   },
   "file_extension": ".py",
   "mimetype": "text/x-python",
   "name": "python",
   "nbconvert_exporter": "python",
   "pygments_lexer": "ipython3",
   "version": "3.11.4"
  }
 },
 "nbformat": 4,
 "nbformat_minor": 5
}
